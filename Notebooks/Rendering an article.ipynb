{
 "cells": [
  {
   "cell_type": "markdown",
   "id": "d1b691be",
   "metadata": {},
   "source": [
    "Checking if a random article rendered correctly using the jinja template"
   ]
  },
  {
   "cell_type": "code",
   "execution_count": 14,
   "id": "53fa3d9c",
   "metadata": {},
   "outputs": [
    {
     "name": "stdout",
     "output_type": "stream",
     "text": [
      "Requirement already satisfied: Jinja2 in /home/ankita/miniconda3/lib/python3.9/site-packages (3.0.3)\r\n",
      "Requirement already satisfied: MarkupSafe>=2.0 in /home/ankita/miniconda3/lib/python3.9/site-packages (from Jinja2) (2.1.0)\r\n"
     ]
    }
   ],
   "source": [
    "!pip install Jinja2"
   ]
  },
  {
   "cell_type": "code",
   "execution_count": 15,
   "id": "14e32985",
   "metadata": {},
   "outputs": [
    {
     "data": {
      "text/plain": [
       "'Hello John Doe!'"
      ]
     },
     "execution_count": 15,
     "metadata": {},
     "output_type": "execute_result"
    }
   ],
   "source": [
    "from jinja2 import Template\n",
    "template = Template('Hello {{ name }}!')\n",
    "template.render(name='John Doe')"
   ]
  },
  {
   "cell_type": "code",
   "execution_count": 16,
   "id": "197d24bf",
   "metadata": {},
   "outputs": [],
   "source": [
    "def getData(df):\n",
    "\n",
    "    data = {\n",
    "        'maker_name':str(df['maker_name'][6677]),\n",
    "        'maker_name_trans':str(df['maker_name_trans'][6677]),\n",
    "        'device_name':str(df['device_name'][6677]),\n",
    "        'device_name_trans':str(df['device_name_trans'][6677]),\n",
    "        'article_description':str(df['article_description'][6677]),\n",
    "        'article_description_trans':str(df['article_description_trans'][6677]),\n",
    "        'device_img_link':str(df['device_img_link'][6677]),\n",
    "        'device_img_wikilink':str(df['device_img_wikilink'][6677]),\n",
    "        'reference_link':str(df['reference_link'][6677]),\n",
    "        'network_technology':str(df['network_technology'][6677]),\n",
    "        'network_technology_trans':str(df['network_technology_trans'][6677]),\n",
    "        'network_2g_bands':str(df['network_2g_bands'][6677]),\n",
    "        'network_2g_bands_trans':str(df['network_2g_bands_trans'][6677]),\n",
    "        'network_3g_bands':str(df['network_3g_bands'][6677]),\n",
    "        'network_3g_bands_trans':str(df['network_3g_bands_trans'][6677]),\n",
    "        'network_4g_bands':str(df['network_4g_bands'][6677]),\n",
    "        'network_4g_bands_trans':str(df['network_4g_bands_trans'][6677]),\n",
    "        'network_gprs':str(df['network_gprs'][6677]),\n",
    "        'network_gprs_trans':str(df['network_gprs_trans'][6677]),\n",
    "        'network_edge':str(df['network_edge'][6677]),\n",
    "        'network_edge_trans':str(df['network_edge_trans'][6677]),\n",
    "        'launch_announced':str(df['launch_announced'][6677]),\n",
    "        'launch_announced_trans':str(df['launch_announced_trans'][6677]),\n",
    "        'body_x':str(df['body_x'][6677]),\n",
    "        'body_x_trans':str(df['body_x_trans'][6677]),\n",
    "        'body_y':str(df['body_y'][6677]),\n",
    "        'body_y_trans':str(df['body_y_trans'][6677]),\n",
    "        'body_z':str(df['body_z'][6677]),\n",
    "        'body_z_trans':str(df['body_z_trans'][6677]),\n",
    "        'weight':str(df['weight'][6677]),\n",
    "        'weight_trans':str(df['weight_trans'][6677]),\n",
    "        'body_sim':str(df['body_sim'][6677]),\n",
    "        'body_sim_trans':str(df['body_sim_trans'][6677]),\n",
    "        'display_type':str(df['display_type'][6677]),\n",
    "        'display_type_trans':str(df['display_type_trans'][6677]),\n",
    "        'display_type_category':str(df['display_type_category'][6677]),\n",
    "        'display_type_category_trans':str(df['display_type_category_trans'][6677]),\n",
    "        'display_size':str(df['display_size'][6677]),\n",
    "        'display_size_trans':str(df['display_size_trans'][6677]),\n",
    "        'display_resolution':str(df['display_resolution'][6677]),\n",
    "        'display_resolution_trans':str(df['display_resolution_trans'][6677]),\n",
    "        'display_protection':str(df['display_protection'][6677]),\n",
    "        'display_protection_trans':str(df['display_protection_trans'][6677]),\n",
    "        'platform_chipset':str(df['platform_chipset'][6677]),\n",
    "        'platform_chipset_trans':str(df['platform_chipset_trans'][6677]),\n",
    "        'platform_cpu':str(df['platform_cpu'][6677]),\n",
    "        'platform_cpu_trans':str(df['platform_cpu_trans'][6677]),\n",
    "        'platform_gpu':str(df['platform_gpu'][6677]),\n",
    "        'platform_gpu_trans':str(df['platform_gpu_trans'][6677]),\n",
    "        'memory_card_slot':str(df['memory_card_slot'][6677]),\n",
    "        'memory_card_slot_trans':str(df['memory_card_slot_trans'][6677]),\n",
    "        'memory_internal':str(df['memory_internal'][6677]),\n",
    "        'memory_internal_trans':str(df['memory_internal_trans'][6677]),\n",
    "        'main_camera_features':str(df['main_camera_features'][6677]),\n",
    "        'main_camera_features_trans':str(df['main_camera_features_trans'][6677]),\n",
    "        'main_camera_video':str(df['main_camera_video'][6677]),\n",
    "        'main_camera_video_trans':str(df['main_camera_video_trans'][6677]),\n",
    "        'selfie_camera_single':str(df['selfie_camera_single'][6677]),\n",
    "        'selfie_camera_single_trans':str(df['selfie_camera_single_trans'][6677]),\n",
    "        'sound_loudspeaker':str(df['sound_loudspeaker'][6677]),\n",
    "        'sound_loudspeaker_trans':str(df['sound_loudspeaker_trans'][6677]),\n",
    "        'sound_3.5mm_jack':str(df['sound_3.5mm_jack'][6677]),\n",
    "        'sound_3.5mm_jack_trans':str(df['sound_3.5mm_jack_trans'][6677]),\n",
    "        'comms_wlan':str(df['comms_wlan'][6677]),\n",
    "        'comms_wlan_trans':str(df['comms_wlan_trans'][6677]),\n",
    "        'comms_bluetooth':str(df['comms_bluetooth'][6677]),\n",
    "        'comms_bluetooth_trans':str(df['comms_bluetooth_trans'][6677]),\n",
    "        'comms_gps':str(df['comms_gps'][6677]),\n",
    "        'comms_gps_trans':str(df['comms_gps_trans'][6677]),\n",
    "        'comms_radio':str(df['comms_radio'][6677]),\n",
    "        'comms_radio_trans':str(df['comms_radio_trans'][6677]),\n",
    "        'comms_usb':str(df['comms_usb'][6677]),\n",
    "        'comms_usb_trans':str(df['comms_usb_trans'][6677]),\n",
    "        'features_sensors':str(df['features_sensors'][6677]),\n",
    "        'features_sensors_trans':str(df['features_sensors_trans'][6677]),\n",
    "        'colors':str(df['colors'][6677]),\n",
    "        'colors_trans':str(df['colors_trans'][6677]),\n",
    "        'banner_chipset_hl':str(df['banner_chipset_hl'][6677]),\n",
    "        'banner_chipset_hl_trans':str(df['banner_chipset_hl_trans'][6677]),\n",
    "        'batsize':str(df['batsize'][6677]),\n",
    "        'batsize_trans':str(df['batsize_trans'][6677]),\n",
    "        'bat_type':str(df['bat_type'][6677]),\n",
    "        'bat_type_trans':str(df['bat_type_trans'][6677]),\n",
    "        'main_camera_single':str(df['main_camera_single'][6677]),\n",
    "        'main_camera_single_trans':str(df['main_camera_single_trans'][6677]),\n",
    "        'battery_stand_by':str(df['battery_stand_by'][6677]),\n",
    "        'battery_stand_by_trans':str(df['battery_stand_by_trans'][6677]),\n",
    "    }\n",
    "\n",
    "    return data"
   ]
  },
  {
   "cell_type": "code",
   "execution_count": 17,
   "id": "790edf52",
   "metadata": {},
   "outputs": [],
   "source": [
    "from jinja2 import Environment, FileSystemLoader\n",
    "import pandas as pd"
   ]
  },
  {
   "cell_type": "code",
   "execution_count": 18,
   "id": "691e76b4",
   "metadata": {},
   "outputs": [],
   "source": [
    "df = pd.read_csv('8.retrans_wikidata.csv', na_filter = False)"
   ]
  },
  {
   "cell_type": "code",
   "execution_count": 19,
   "id": "ac9f36e3",
   "metadata": {},
   "outputs": [],
   "source": [
    "file_loader = FileSystemLoader('')\n",
    "env = Environment(loader=file_loader)\n",
    "template = env.get_template('Jinja_template.j2')"
   ]
  },
  {
   "cell_type": "code",
   "execution_count": 20,
   "id": "dd4687ec",
   "metadata": {},
   "outputs": [
    {
     "data": {
      "text/plain": [
       "4774"
      ]
     },
     "execution_count": 20,
     "metadata": {},
     "output_type": "execute_result"
    }
   ],
   "source": [
    "article = open('Rendered_Article.odt', 'w')\n",
    "article.write(template.render(getData(df)))"
   ]
  },
  {
   "cell_type": "code",
   "execution_count": null,
   "id": "bc804844",
   "metadata": {},
   "outputs": [],
   "source": []
  }
 ],
 "metadata": {
  "kernelspec": {
   "display_name": "Python 3 (ipykernel)",
   "language": "python",
   "name": "python3"
  },
  "language_info": {
   "codemirror_mode": {
    "name": "ipython",
    "version": 3
   },
   "file_extension": ".py",
   "mimetype": "text/x-python",
   "name": "python",
   "nbconvert_exporter": "python",
   "pygments_lexer": "ipython3",
   "version": "3.9.7"
  }
 },
 "nbformat": 4,
 "nbformat_minor": 5
}
