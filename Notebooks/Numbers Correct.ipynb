{
 "cells": [
  {
   "cell_type": "markdown",
   "metadata": {},
   "source": [
    "Correcting some numbers that were generated incorrectly"
   ]
  },
  {
   "cell_type": "code",
   "execution_count": 19,
   "metadata": {
    "execution": {
     "iopub.execute_input": "2022-04-14T21:20:39.541219Z",
     "iopub.status.busy": "2022-04-14T21:20:39.540793Z",
     "iopub.status.idle": "2022-04-14T21:20:40.475919Z",
     "shell.execute_reply": "2022-04-14T21:20:40.474885Z",
     "shell.execute_reply.started": "2022-04-14T21:20:39.541179Z"
    }
   },
   "outputs": [],
   "source": [
    "phones = pd.read_csv('../input/thisdata/Data.csv', na_filter = False)\n",
    "phones"
   ]
  },
  {
   "cell_type": "code",
   "execution_count": 13,
   "metadata": {
    "_cell_guid": "b1076dfc-b9ad-4769-8c92-a6c4dae69d19",
    "_uuid": "8f2839f25d086af736a60e9eeb907d3b93b6e0e5",
    "execution": {
     "iopub.execute_input": "2022-04-14T21:16:03.910142Z",
     "iopub.status.busy": "2022-04-14T21:16:03.909776Z",
     "iopub.status.idle": "2022-04-14T21:16:03.914878Z",
     "shell.execute_reply": "2022-04-14T21:16:03.913893Z",
     "shell.execute_reply.started": "2022-04-14T21:16:03.910104Z"
    }
   },
   "outputs": [],
   "source": [
    "import pandas as pd\n",
    "import numpy as np\n",
    "import re"
   ]
  },
  {
   "cell_type": "code",
   "execution_count": 15,
   "metadata": {
    "execution": {
     "iopub.execute_input": "2022-04-14T21:16:12.267846Z",
     "iopub.status.busy": "2022-04-14T21:16:12.267062Z",
     "iopub.status.idle": "2022-04-14T21:16:12.272011Z",
     "shell.execute_reply": "2022-04-14T21:16:12.271142Z",
     "shell.execute_reply.started": "2022-04-14T21:16:12.267807Z"
    }
   },
   "outputs": [],
   "source": [
    "def numbers(string):\n",
    "    n = [str(s) for s in re.findall(r'-?\\d+\\.?\\d*', string)]\n",
    "    return n"
   ]
  },
  {
   "cell_type": "code",
   "execution_count": 24,
   "metadata": {
    "execution": {
     "iopub.execute_input": "2022-04-14T21:29:59.758243Z",
     "iopub.status.busy": "2022-04-14T21:29:59.757838Z",
     "iopub.status.idle": "2022-04-14T21:30:02.448246Z",
     "shell.execute_reply": "2022-04-14T21:30:02.447185Z",
     "shell.execute_reply.started": "2022-04-14T21:29:59.758206Z"
    }
   },
   "outputs": [],
   "source": [
    "for i in range(len(phones['main_camera_single_trans'])):\n",
    "    phones['main_camera_single_trans'][i]=phones['main_camera_single_trans'][i].replace('एएफ','ऑटोफोकस')\n",
    "    phones['main_camera_single_trans'][i]=phones['main_camera_single_trans'][i].replace('वी. वी.ए.','वी जी ए')\n",
    "    phones['main_camera_single_trans'][i]=phones['main_camera_single_trans'][i].replace('AI','ऑटोफोकस')\n",
    "    phones['main_camera_single_trans'][i]=phones['main_camera_single_trans'][i].replace('PDJ','पीडीएएफ')"
   ]
  },
  {
   "cell_type": "code",
   "execution_count": 25,
   "metadata": {
    "execution": {
     "iopub.execute_input": "2022-04-14T21:30:18.409548Z",
     "iopub.status.busy": "2022-04-14T21:30:18.409223Z",
     "iopub.status.idle": "2022-04-14T21:30:19.408344Z",
     "shell.execute_reply": "2022-04-14T21:30:19.407503Z",
     "shell.execute_reply.started": "2022-04-14T21:30:18.409512Z"
    }
   },
   "outputs": [],
   "source": [
    "for i in range(9536):\n",
    "    numbers_actual = numbers(phones['main_camera_single'][i])\n",
    "    numbers_trans = numbers(phones['main_camera_single_trans'][i])\n",
    "    if (len(numbers_actual)==len(numbers_trans)):\n",
    "        for j in range(len(numbers_trans)):\n",
    "            phones['main_camera_single_trans'][i] = phones['main_camera_single_trans'][i].replace(numbers_trans[j], numbers_actual[j]) "
   ]
  },
  {
   "cell_type": "code",
   "execution_count": 26,
   "metadata": {
    "execution": {
     "iopub.execute_input": "2022-04-14T21:30:30.561074Z",
     "iopub.status.busy": "2022-04-14T21:30:30.560693Z",
     "iopub.status.idle": "2022-04-14T21:30:31.088105Z",
     "shell.execute_reply": "2022-04-14T21:30:31.086991Z",
     "shell.execute_reply.started": "2022-04-14T21:30:30.561037Z"
    }
   },
   "outputs": [],
   "source": [
    "phones.to_csv('output.csv', index = False)"
   ]
  }
 ],
 "metadata": {
  "kernelspec": {
   "display_name": "Python 3 (ipykernel)",
   "language": "python",
   "name": "python3"
  },
  "language_info": {
   "codemirror_mode": {
    "name": "ipython",
    "version": 3
   },
   "file_extension": ".py",
   "mimetype": "text/x-python",
   "name": "python",
   "nbconvert_exporter": "python",
   "pygments_lexer": "ipython3",
   "version": "3.9.7"
  }
 },
 "nbformat": 4,
 "nbformat_minor": 4
}
